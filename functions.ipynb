{
 "cells": [
  {
   "cell_type": "code",
   "execution_count": null,
   "metadata": {
    "collapsed": true
   },
   "outputs": [],
   "source": [
    "import numpy as np\n",
    "import pandas as pd\n",
    "\n",
    "class CompanyDataClean():\n",
    "    def __init__(self):\n",
    "        self.df = df\n",
    "    "
   ]
  },
  {
   "cell_type": "code",
   "execution_count": null,
   "metadata": {
    "collapsed": true
   },
   "outputs": [],
   "source": [
    "def define_churn(df):\n",
    "    '''\n",
    "    churn column made, churn = 1\n",
    "    '''\n",
    "    self.df['churn'] = (self.df[\"last_trip_date\"] < \"2014-06-01\")*1\n",
    "    return df"
   ]
  },
  {
   "cell_type": "code",
   "execution_count": null,
   "metadata": {
    "collapsed": true
   },
   "outputs": [],
   "source": [
    "def basic_clean(self,df):\n",
    "    self.df['phone'] = df['phone'].fillna('other') #changed null phone type to other\n",
    "    self.df['rated_by_driver'] = (self.df['avg_rating_by_driver'].isnull() == False) * 1 #new column rated or not\n",
    "    self.df['rated_by_passenger'] = (self.df['avg_rating_of_driver'].isnull() == False) * 1 #new column for rated or not\n",
    "    self.df['luxury_car_user'] = self.df[\"luxury_car_user\"].astype(int) #change luxury car to ints\n",
    "    return df"
   ]
  },
  {
   "cell_type": "code",
   "execution_count": null,
   "metadata": {
    "collapsed": true
   },
   "outputs": [],
   "source": [
    "def ratings_binning_categories(self,df):\n",
    "    self.df['avg_rating_of_driver']= self.df['avg_rating_of_driver'].fillna(0)  #filled missing valus with mean\n",
    "    mean_driver_rating =self.df['avg_rating_of_driver'].mean()\n",
    "    bins = [-1,0.001,mean_driver_rating, 4.999, 5.1] #since no 0 ratings (we think)\n",
    "    bin_titles = ['unknown','bad', 'good','perfect']\n",
    "    categories = pd.cut(self.df['avg_rating_of_driver'], bins, labels = bin_titles)\n",
    "    self.df['driver_rating'] = pd.cut(self.df['avg_rating_of_driver'], bins, labels= bin_titles)\n",
    "    \n",
    "    self.df['avg_rating_by_driver']= self.df['avg_rating_by_driver'].fillna(0)  #filled missing valus with mean\n",
    "    mean_passenger_rating =self.df['avg_rating_by_driver'].mean()\n",
    "    bins = [-1,0.001,mean_passenger_rating, 4.999, 5.1] #since no 0 ratings (we think)\n",
    "    bin_titles = ['unknown','bad', 'good','perfect']\n",
    "    categories = pd.cut(self.df['avg_rating_by_driver'], bins, labels = bin_titles)\n",
    "    self.df['passenger_rating'] = pd.cut(self.df['avg_rating_by_driver'], bins, labels= bin_titles)\n",
    "    \n",
    "    self.df[\"avg_rating_of_driver\"]=self.df[\"avg_rating_of_driver\"].replace(0,np.NaN)\n",
    "    self.df[\"avg_rating_by_driver\"]=self.df[\"avg_rating_by_driver\"].replace(0,np.NaN)\n",
    "    \n",
    "    return df"
   ]
  },
  {
   "cell_type": "code",
   "execution_count": null,
   "metadata": {
    "collapsed": true
   },
   "outputs": [],
   "source": [
    "def dummies(self,df):\n",
    "    city_dummies = pd.get_dummies(self.df['city'])\n",
    "    city_dummies = city_dummies.drop(\"Winterfell\", axis=1)\n",
    "    self.df = pd.concat((self.df, city_dummies), axis=1)\n",
    "    \n",
    "    phone_dummies = pd.get_dummies(self.df['phone'])\n",
    "    phone_dummies = phone_dummies.drop(\"other\", axis=1)\n",
    "    self.df = pd.concat((self.df, phone_dummies), axis=1)\n",
    "    \n",
    "    driver_rating_dummies = pd.get_dummies(self.df['driver_rating'])\n",
    "    driver_rating_dummies = driver_rating_dummies.drop(\"unknown\", axis=1)\n",
    "    self.df = pd.concat((self.df, driver_rating_dummies), axis=1)\n",
    "    \n",
    "    passenger_rating_dummies = pd.get_dummies(self.df['passenger_rating'])\n",
    "    passenger_rating_dummies = passenger_rating_dummies.drop(\"unknown\", axis=1)\n",
    "    self.df = pd.concat((self.df, passenger_rating_dummies), axis=1)\n",
    "    return df"
   ]
  },
  {
   "cell_type": "code",
   "execution_count": null,
   "metadata": {
    "collapsed": true
   },
   "outputs": [],
   "source": [
    "def numerical_data(self,df):\n",
    "    self.df = self.df.drop([\n",
    "            'avg_rating_by_driver',\n",
    "            'avg_rating_of_driver',\n",
    "            'city',\n",
    "            'last_trip_date',\n",
    "            'phone',\n",
    "            'signup_date',\n",
    "            'driver_rating',\n",
    "            'passenger_rating'],axis=1)\n",
    "    return self.df"
   ]
  }
 ],
 "metadata": {
  "anaconda-cloud": {},
  "kernelspec": {
   "display_name": "Python [default]",
   "language": "python",
   "name": "python2"
  },
  "language_info": {
   "codemirror_mode": {
    "name": "ipython",
    "version": 2
   },
   "file_extension": ".py",
   "mimetype": "text/x-python",
   "name": "python",
   "nbconvert_exporter": "python",
   "pygments_lexer": "ipython2",
   "version": "2.7.12"
  }
 },
 "nbformat": 4,
 "nbformat_minor": 1
}
